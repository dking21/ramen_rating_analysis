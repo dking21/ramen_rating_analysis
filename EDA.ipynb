{
 "cells": [
  {
   "cell_type": "code",
   "execution_count": 1,
   "metadata": {},
   "outputs": [],
   "source": [
    "import pandas as pd\n",
    "from pandas.plotting import scatter_matrix\n",
    "import matplotlib.pyplot as plt"
   ]
  },
  {
   "cell_type": "code",
   "execution_count": 2,
   "metadata": {},
   "outputs": [],
   "source": [
    "df = pd.read_csv('data/ramen-ratings.csv')"
   ]
  },
  {
   "cell_type": "code",
   "execution_count": 3,
   "metadata": {},
   "outputs": [
    {
     "data": {
      "text/html": [
       "<div>\n",
       "<style scoped>\n",
       "    .dataframe tbody tr th:only-of-type {\n",
       "        vertical-align: middle;\n",
       "    }\n",
       "\n",
       "    .dataframe tbody tr th {\n",
       "        vertical-align: top;\n",
       "    }\n",
       "\n",
       "    .dataframe thead th {\n",
       "        text-align: right;\n",
       "    }\n",
       "</style>\n",
       "<table border=\"1\" class=\"dataframe\">\n",
       "  <thead>\n",
       "    <tr style=\"text-align: right;\">\n",
       "      <th></th>\n",
       "      <th>Review #</th>\n",
       "      <th>Brand</th>\n",
       "      <th>Variety</th>\n",
       "      <th>Style</th>\n",
       "      <th>Country</th>\n",
       "      <th>Stars</th>\n",
       "      <th>Top Ten</th>\n",
       "    </tr>\n",
       "  </thead>\n",
       "  <tbody>\n",
       "    <tr>\n",
       "      <th>0</th>\n",
       "      <td>2580</td>\n",
       "      <td>New Touch</td>\n",
       "      <td>T's Restaurant Tantanmen</td>\n",
       "      <td>Cup</td>\n",
       "      <td>Japan</td>\n",
       "      <td>3.75</td>\n",
       "      <td>NaN</td>\n",
       "    </tr>\n",
       "    <tr>\n",
       "      <th>1</th>\n",
       "      <td>2579</td>\n",
       "      <td>Just Way</td>\n",
       "      <td>Noodles Spicy Hot Sesame Spicy Hot Sesame Guan...</td>\n",
       "      <td>Pack</td>\n",
       "      <td>Taiwan</td>\n",
       "      <td>1</td>\n",
       "      <td>NaN</td>\n",
       "    </tr>\n",
       "    <tr>\n",
       "      <th>2</th>\n",
       "      <td>2578</td>\n",
       "      <td>Nissin</td>\n",
       "      <td>Cup Noodles Chicken Vegetable</td>\n",
       "      <td>Cup</td>\n",
       "      <td>USA</td>\n",
       "      <td>2.25</td>\n",
       "      <td>NaN</td>\n",
       "    </tr>\n",
       "    <tr>\n",
       "      <th>3</th>\n",
       "      <td>2577</td>\n",
       "      <td>Wei Lih</td>\n",
       "      <td>GGE Ramen Snack Tomato Flavor</td>\n",
       "      <td>Pack</td>\n",
       "      <td>Taiwan</td>\n",
       "      <td>2.75</td>\n",
       "      <td>NaN</td>\n",
       "    </tr>\n",
       "    <tr>\n",
       "      <th>4</th>\n",
       "      <td>2576</td>\n",
       "      <td>Ching's Secret</td>\n",
       "      <td>Singapore Curry</td>\n",
       "      <td>Pack</td>\n",
       "      <td>India</td>\n",
       "      <td>3.75</td>\n",
       "      <td>NaN</td>\n",
       "    </tr>\n",
       "  </tbody>\n",
       "</table>\n",
       "</div>"
      ],
      "text/plain": [
       "   Review #           Brand  \\\n",
       "0      2580       New Touch   \n",
       "1      2579        Just Way   \n",
       "2      2578          Nissin   \n",
       "3      2577         Wei Lih   \n",
       "4      2576  Ching's Secret   \n",
       "\n",
       "                                             Variety Style Country Stars  \\\n",
       "0                          T's Restaurant Tantanmen    Cup   Japan  3.75   \n",
       "1  Noodles Spicy Hot Sesame Spicy Hot Sesame Guan...  Pack  Taiwan     1   \n",
       "2                      Cup Noodles Chicken Vegetable   Cup     USA  2.25   \n",
       "3                      GGE Ramen Snack Tomato Flavor  Pack  Taiwan  2.75   \n",
       "4                                    Singapore Curry  Pack   India  3.75   \n",
       "\n",
       "  Top Ten  \n",
       "0     NaN  \n",
       "1     NaN  \n",
       "2     NaN  \n",
       "3     NaN  \n",
       "4     NaN  "
      ]
     },
     "execution_count": 3,
     "metadata": {},
     "output_type": "execute_result"
    }
   ],
   "source": [
    "df.head()"
   ]
  },
  {
   "cell_type": "code",
   "execution_count": 4,
   "metadata": {},
   "outputs": [
    {
     "name": "stdout",
     "output_type": "stream",
     "text": [
      "<class 'pandas.core.frame.DataFrame'>\n",
      "RangeIndex: 2580 entries, 0 to 2579\n",
      "Data columns (total 7 columns):\n",
      "Review #    2580 non-null int64\n",
      "Brand       2580 non-null object\n",
      "Variety     2580 non-null object\n",
      "Style       2578 non-null object\n",
      "Country     2580 non-null object\n",
      "Stars       2580 non-null object\n",
      "Top Ten     41 non-null object\n",
      "dtypes: int64(1), object(6)\n",
      "memory usage: 141.2+ KB\n"
     ]
    }
   ],
   "source": [
    "df.info()"
   ]
  },
  {
   "cell_type": "code",
   "execution_count": 5,
   "metadata": {},
   "outputs": [],
   "source": [
    "df.columns = ['review', 'brand', 'variety', 'style', 'country', 'stars', 'top_ten']"
   ]
  },
  {
   "cell_type": "code",
   "execution_count": 7,
   "metadata": {},
   "outputs": [
    {
     "name": "stdout",
     "output_type": "stream",
     "text": [
      "[2580 2579 2578 ...    3    2    1]\n",
      "['New Touch' 'Just Way' 'Nissin' 'Wei Lih' \"Ching's Secret\"\n",
      " 'Samyang Foods' 'Acecook' 'Ikeda Shoku' \"Ripe'n'Dry\" 'KOKA' 'Tao Kae Noi'\n",
      " 'Yamachan' 'Nongshim' 'TRDP' 'Binh Tay' 'Paldo' 'Jackpot Teriyaki'\n",
      " 'Yum-Mie' 'MyKuali' 'Ottogi' 'Sichuan Guangyou' 'Lipton' 'Lele'\n",
      " 'Fujiwara' 'Uni-President' 'Maruchan' 'Prima' 'Sokensha' 'Takamori'\n",
      " 'Guava Story' 'Samurai Ramen' 'Ogasawara' 'Pringles' \"Mom's Dry Noodle\"\n",
      " 'Maggi' 'Indomie' 'Happy Cook' 'The Ramen Rater Select' 'TTL' 'E-Zee'\n",
      " 'Kiki Noodle' 'Tokyo Noodle' 'GGE' 'Myojo' 'Sau Tao' 'Wang' 'Daifuku'\n",
      " 'Master Kong' \"World O' Noodle\" 'Kang Shi Fu' 'Mum Ngon' 'Fashion Food'\n",
      " 'Dream Kitchen' 'Ajinatori' \"Dr. McDougall's\" 'Ve Wong' 'Super Bihun'\n",
      " 'Xiuhe' 'Little Cook' 'Shirakiku' \"Mama Pat's\" 'Goku-Uma'\n",
      " 'Sichuan Baijia' 'Liang Cheng Mai' 'Gefen' 'Hua Feng' 'Pulmuone'\n",
      " 'Liu Quan' 'Daikoku' 'Chuan Wei Wang' 'Wai Wai' 'Kamfen' 'Marutai'\n",
      " 'Vifon' '1 To 3 Noodles' 'Fantastic' 'Knorr' 'Sempio' 'Patanjali'\n",
      " 'Qin Zong' 'Pran' 'Sapporo Ichiban' 'MAMA' 'Xiao Ban Mian' 'Suimin'\n",
      " 'Cintan' 'JML' 'Unif Tung-I' 'Tablemark' \"Farmer's Heart\" 'Fuku'\n",
      " 'Singa-Me' 'Love Cook' 'Great Value' 'Asian Thai Foods' 'Nagatanien'\n",
      " 'Nyor Nyar' 'Tseng Noodles' 'A-Sha Dry Noodle' 'Morre' 'Roland'\n",
      " \"Mr. Lee's Noodles\" 'Choumama' 'President Rice' 'Happy Family' 'Menraku'\n",
      " 'La Moderna' 'Jingqi' 'Thien Houng Foods' 'Doll' 'Four Seas' 'CarJEN'\n",
      " '7 Select' 'Oni Hot Pot' 'Weh Lih' 'Itomen' 'Sanpo' 'Mi Sedaap'\n",
      " 'Tokushima Seifun' 'Mamee' 'Zow Zow' 'Koyo' 'ORee Garden' 'A1' 'Migawon'\n",
      " \"Chaudhary's Wai Wai\" 'Urban Noodle' 'Trident' 'Conimex' 'Prima Taste'\n",
      " 'MyOri' 'Itsuki' 'Kabuto Noodles' 'IbuRamen' 'Koh Thai' 'Bamee' 'Ibumie'\n",
      " 'Unox' 'Fortune' 'Bonasia' 'Mie Sedaap' 'iMee' 'Thai Smile' 'Asia Gold'\n",
      " 'Pirkka' 'Higashimaru' 'Kuriki' 'Vedan' 'Yum Yum' 'Mama' 'Baijia' 'Daraz'\n",
      " 'Pama' 'Seven & I' 'Forest Noodles' \"Vit's\" 'Ten-In' 'Sugakiya Foods'\n",
      " 'Hao Way' 'Nakaya Shouten' 'Thai Chef' 'Crystal Noodle' 'Azami' 'Super'\n",
      " 'Torishi' 'Western Family' 'Chering Chang' 'Ishimaru'\n",
      " 'Authentically Asian' 'Aroi' 'Koka' 'Wu-Mu' 'Yamadai' 'Vina Acecook'\n",
      " 'Baixiang Noodles' 'Salam Mie' 'Lee Fah Mee' 'Sakurai Foods'\n",
      " 'The Kitchen Food' 'Premiere' '7 Select/Nissin' 'Wugudaochang' 'Emart'\n",
      " 'Lishan Food Manufacturing' 'Ah Lai' 'Tropicana Slim' 'A-One' 'Deshome'\n",
      " 'Paldo Vina' 'Chencun' 'United' 'ChoripDong' 'Shan' 'Ruski' 'No Name'\n",
      " 'New Way' 'Lucky Me!' \"Campbell's\" 'One Dish Asia' 'Long Jun Hang'\n",
      " 'Unif-100' 'Hankow' 'The Bridge' 'Mitoku' 'Unzen' 'Uncle Sun' 'Mi E-Zee'\n",
      " 'E-mi' 'J.J.' 'Curry Prince' 'Econsave' 'Oyatsu' 'Kin-Dee' 'Ko-Lee' 'ICA'\n",
      " 'Nanyang Chef' 'Thai Pavilion' 'Miliket' 'Katoz' 'Men-Sunaoshi' 'Chewy'\n",
      " 'Adabi' 'Osaka Ramen' \"Sainsbury's\" 'Pamana' \"Annie Chun's\" 'La Fonte'\n",
      " 'Thai Choice' 'Tesco' 'Pop Bihun' 'Snapdragon' 'Saji' 'Miracle Noodle'\n",
      " 'Tiger Tiger' 'Takamori Kosan' 'Papa' 'Sawadee' 'Golden Wheat'\n",
      " 'Lotus Foods' 'Plats Du Chef' 'Batchelors' 'Sakura Noodle' 'Unif'\n",
      " 'Hi-Myon' 'Healtimie' 'Thai Kitchen' 'Mr. Noodles' 'Good Tto Leu Foods'\n",
      " 'GaGa' 'Kimura' 'Tokachimen Koubou' 'ABC' 'Eat & Go' 'President'\n",
      " 'SuperMi' 'Kumamoto' 'HoMyeonDang' 'Nan Jie Cun' 'China Best' 'Sanrio'\n",
      " 'Peyang' 'Golden Wonder' 'Komforte Chockolates' 'Nagao Noodle' 'Maitri'\n",
      " 'GS25' 'Baltix' 'Amianda' 'Tasty Bite' 'Star Anise Foods' 'Tradition'\n",
      " 'Amino' 'Pot Noodle' 'Sun Noodle' 'S&S' 'Springlife' 'Right Foods'\n",
      " 'Sunlee' 'Goku Uma' 'Daddy' \"Han's South Korea\" 'Sarimi' 'FMF' 'Long Kow'\n",
      " 'Unif / Tung-I' 'Song Hak' 'Fuji Mengyo' 'Dragonfly' 'CJ CheilJedang'\n",
      " 'Dongwon' 'Seven-Eleven' 'Souper' \"Kim's Bowl\" 'Ohsung' 'Gau Do'\n",
      " 'Golden Mie' 'GreeNoodle' 'Kailo' 'Fashion Foods' 'Hosoonyi' 'Payless'\n",
      " 'Yamamoto' 'Saigon Ve Wong' 'Wu Mu' 'Mee Jang' 'JFC' 'Samyang' 'Mug Shot'\n",
      " 'Lishan' 'Cap Atoom Bulan' 'Sura' 'Wei Chuan' 'Yamamori' 'Mr. Udon'\n",
      " 'Omachi' 'Wei Wei' 'Six Fortune' 'Haioreum' 'Sunlight' 'Noah Foods'\n",
      " 'O Sung' 'Foodmon' 'Sahmyook' 'Nan Hsing' 'Mexi-Ramen' 'Hsin Tung Yang'\n",
      " 'Sao Tao' 'iNoodle' 'Quickchow' 'Chikara' 'Q' 'Noodle Time' 'Gomex'\n",
      " 'US Canning' 'Rhee Bros Assi' 'Bon Go Jang' 'Tayho' 'Sunny Maid'\n",
      " 'Royal Umbrella' 'Tiger' 'Fu Chang Chinese Noodle Company' 'Sanyo Foods'\n",
      " 'Rocket Brand' 'Boss' 'Chorip Dong' 'Higashi' 'Sakurai'\n",
      " 'Global Inspiration' 'Teriyaki Time' 'Hua Feng Noodle Expert'\n",
      " 'Kim Ve Wong' 'Smack' 'Sutah' 'Tung-I' 'Westbrae']\n",
      "[\"T's Restaurant Tantanmen \"\n",
      " 'Noodles Spicy Hot Sesame Spicy Hot Sesame Guan-miao Noodles'\n",
      " 'Cup Noodles Chicken Vegetable' ...\n",
      " 'Hu Tiu Nam Vang [\"Phnom Penh\" style] Asian Style Instant\\xa0Rice\\xa0Noodles'\n",
      " 'Oriental Style Instant Noodles' 'Tom Yum Chili Flavor']\n",
      "['Cup' 'Pack' 'Tray' 'Bowl' 'Box' 'Can' 'Bar' nan]\n",
      "['Japan' 'Taiwan' 'USA' 'India' 'South Korea' 'Singapore' 'Thailand'\n",
      " 'Hong Kong' 'Vietnam' 'Ghana' 'Malaysia' 'Indonesia' 'China' 'Nigeria'\n",
      " 'Germany' 'Hungary' 'Mexico' 'Fiji' 'Australia' 'Pakistan' 'Bangladesh'\n",
      " 'Canada' 'Nepal' 'Brazil' 'UK' 'Myanmar' 'Netherlands' 'United States'\n",
      " 'Cambodia' 'Finland' 'Sarawak' 'Philippines' 'Sweden' 'Colombia'\n",
      " 'Estonia' 'Holland' 'Poland' 'Dubai']\n",
      "['3.75' '1' '2.25' '2.75' '4.75' '4' '0.25' '2.5' '5' '4.25' '4.5' '3.5'\n",
      " 'Unrated' '1.5' '3.25' '2' '0' '3' '0.5' '4.00' '5.0' '3.50' '3.8' '4.3'\n",
      " '2.3' '5.00' '3.3' '4.0' '3.00' '1.75' '3.0' '4.50' '0.75' '1.25' '1.1'\n",
      " '2.1' '0.9' '3.1' '4.125' '3.125' '2.125' '2.9' '0.1' '2.8' '3.7' '3.4'\n",
      " '3.6' '2.85' '3.2' '3.65' '1.8']\n",
      "[nan '2016 #10' '2016 #1' '2016 #8' '2016 #5' '2016 #9' '2016 #7'\n",
      " '2015 #10' '2015 #7' '2015 #4' '2015 #9' '2015 #6' '2015 #1' '2013 #10'\n",
      " '2015 #8' '2014 #7' '2014 #4' '2014 #9' '2014 #10' '2014 #8' '2014 #5'\n",
      " '2014 #6' '2014 #1' '2013 #1' '2013 #2' '2013 #4' '\\n' '2013 #9'\n",
      " '2013 #3' '2012 #10' '2012 #7' '2012 #5' '2012 #3' '2012 #6' '2012 #9'\n",
      " '2012 #1' '2012 #2' '2013 #6' '2012 #4']\n"
     ]
    }
   ],
   "source": [
    "for i in df.columns:\n",
    "    print(df[i].unique())"
   ]
  },
  {
   "cell_type": "code",
   "execution_count": 9,
   "metadata": {},
   "outputs": [
    {
     "name": "stdout",
     "output_type": "stream",
     "text": [
      "review 2580\n",
      "brand 355\n",
      "variety 2413\n",
      "style 8\n",
      "country 38\n",
      "stars 51\n",
      "top_ten 39\n"
     ]
    }
   ],
   "source": [
    "for i in df.columns:\n",
    "    print(i, len(df[i].unique()))"
   ]
  },
  {
   "cell_type": "markdown",
   "metadata": {},
   "source": [
    "After EDA, I decided to drop the row where it does not have rating.\n",
    "\n",
    "I am also dropping some columns which would be irrelevant to predict the rating. "
   ]
  },
  {
   "cell_type": "code",
   "execution_count": null,
   "metadata": {},
   "outputs": [],
   "source": []
  },
  {
   "cell_type": "code",
   "execution_count": 21,
   "metadata": {},
   "outputs": [],
   "source": [
    "df = df[df.stars != 'Unrated']"
   ]
  },
  {
   "cell_type": "code",
   "execution_count": 22,
   "metadata": {},
   "outputs": [
    {
     "data": {
      "text/plain": [
       "array(['3.75', '1', '2.25', '2.75', '4.75', '4', '0.25', '2.5', '5',\n",
       "       '4.25', '4.5', '3.5', '1.5', '3.25', '2', '0', '3', '0.5', '4.00',\n",
       "       '5.0', '3.50', '3.8', '4.3', '2.3', '5.00', '3.3', '4.0', '3.00',\n",
       "       '1.75', '3.0', '4.50', '0.75', '1.25', '1.1', '2.1', '0.9', '3.1',\n",
       "       '4.125', '3.125', '2.125', '2.9', '0.1', '2.8', '3.7', '3.4',\n",
       "       '3.6', '2.85', '3.2', '3.65', '1.8'], dtype=object)"
      ]
     },
     "execution_count": 22,
     "metadata": {},
     "output_type": "execute_result"
    }
   ],
   "source": [
    "df['stars'].unique()"
   ]
  },
  {
   "cell_type": "markdown",
   "metadata": {},
   "source": [
    "Would it be reasonable to drop the row where it got 0 star? \n",
    "\n",
    "Maybe not now."
   ]
  },
  {
   "cell_type": "code",
   "execution_count": 23,
   "metadata": {},
   "outputs": [
    {
     "data": {
      "text/html": [
       "<div>\n",
       "<style scoped>\n",
       "    .dataframe tbody tr th:only-of-type {\n",
       "        vertical-align: middle;\n",
       "    }\n",
       "\n",
       "    .dataframe tbody tr th {\n",
       "        vertical-align: top;\n",
       "    }\n",
       "\n",
       "    .dataframe thead th {\n",
       "        text-align: right;\n",
       "    }\n",
       "</style>\n",
       "<table border=\"1\" class=\"dataframe\">\n",
       "  <thead>\n",
       "    <tr style=\"text-align: right;\">\n",
       "      <th></th>\n",
       "      <th>review</th>\n",
       "      <th>brand</th>\n",
       "      <th>variety</th>\n",
       "      <th>style</th>\n",
       "      <th>country</th>\n",
       "      <th>stars</th>\n",
       "      <th>top_ten</th>\n",
       "    </tr>\n",
       "  </thead>\n",
       "  <tbody>\n",
       "    <tr>\n",
       "      <th>53</th>\n",
       "      <td>2527</td>\n",
       "      <td>Uni-President</td>\n",
       "      <td>Mushroom Flavor</td>\n",
       "      <td>Pack</td>\n",
       "      <td>Vietnam</td>\n",
       "      <td>0</td>\n",
       "      <td>NaN</td>\n",
       "    </tr>\n",
       "    <tr>\n",
       "      <th>77</th>\n",
       "      <td>2503</td>\n",
       "      <td>Sichuan Guangyou</td>\n",
       "      <td>Sweet Potato Instant Noodle Sout-Hot Flavor</td>\n",
       "      <td>Bowl</td>\n",
       "      <td>China</td>\n",
       "      <td>0</td>\n",
       "      <td>NaN</td>\n",
       "    </tr>\n",
       "    <tr>\n",
       "      <th>154</th>\n",
       "      <td>2426</td>\n",
       "      <td>Dr. McDougall's</td>\n",
       "      <td>Vegan Pad Thai Noodle Soup</td>\n",
       "      <td>Cup</td>\n",
       "      <td>USA</td>\n",
       "      <td>0</td>\n",
       "      <td>NaN</td>\n",
       "    </tr>\n",
       "    <tr>\n",
       "      <th>293</th>\n",
       "      <td>2287</td>\n",
       "      <td>Master Kong</td>\n",
       "      <td>Artificial Abalone Crab Flavor Instant Noodle</td>\n",
       "      <td>Pack</td>\n",
       "      <td>China</td>\n",
       "      <td>0</td>\n",
       "      <td>NaN</td>\n",
       "    </tr>\n",
       "    <tr>\n",
       "      <th>372</th>\n",
       "      <td>2208</td>\n",
       "      <td>Roland</td>\n",
       "      <td>Ramen Japanese Style Quick-Cooking Alimentary ...</td>\n",
       "      <td>Pack</td>\n",
       "      <td>USA</td>\n",
       "      <td>0</td>\n",
       "      <td>NaN</td>\n",
       "    </tr>\n",
       "    <tr>\n",
       "      <th>477</th>\n",
       "      <td>2103</td>\n",
       "      <td>Roland</td>\n",
       "      <td>Ramen Japanese Style Quick-Cooking Alimentary ...</td>\n",
       "      <td>Pack</td>\n",
       "      <td>USA</td>\n",
       "      <td>0</td>\n",
       "      <td>NaN</td>\n",
       "    </tr>\n",
       "    <tr>\n",
       "      <th>524</th>\n",
       "      <td>2056</td>\n",
       "      <td>Koyo</td>\n",
       "      <td>Garlic Pepper Reduced Sodium Ramen</td>\n",
       "      <td>Pack</td>\n",
       "      <td>USA</td>\n",
       "      <td>0</td>\n",
       "      <td>NaN</td>\n",
       "    </tr>\n",
       "    <tr>\n",
       "      <th>557</th>\n",
       "      <td>2023</td>\n",
       "      <td>Urban Noodle</td>\n",
       "      <td>Authentic Street Food Black Bean</td>\n",
       "      <td>Cup</td>\n",
       "      <td>UK</td>\n",
       "      <td>0</td>\n",
       "      <td>NaN</td>\n",
       "    </tr>\n",
       "    <tr>\n",
       "      <th>563</th>\n",
       "      <td>2017</td>\n",
       "      <td>Samyang Foods</td>\n",
       "      <td>Honey &amp; Cheese Big Bowl</td>\n",
       "      <td>Bowl</td>\n",
       "      <td>South Korea</td>\n",
       "      <td>0</td>\n",
       "      <td>NaN</td>\n",
       "    </tr>\n",
       "    <tr>\n",
       "      <th>624</th>\n",
       "      <td>1956</td>\n",
       "      <td>Maruchan</td>\n",
       "      <td>Spicy Tomato Salsa Ramen</td>\n",
       "      <td>Cup</td>\n",
       "      <td>Japan</td>\n",
       "      <td>0</td>\n",
       "      <td>NaN</td>\n",
       "    </tr>\n",
       "    <tr>\n",
       "      <th>667</th>\n",
       "      <td>1913</td>\n",
       "      <td>Thai Smile</td>\n",
       "      <td>Mushroom Rice Noodle Soup Bowl</td>\n",
       "      <td>Bowl</td>\n",
       "      <td>USA</td>\n",
       "      <td>0</td>\n",
       "      <td>NaN</td>\n",
       "    </tr>\n",
       "    <tr>\n",
       "      <th>707</th>\n",
       "      <td>1873</td>\n",
       "      <td>Vedan</td>\n",
       "      <td>Wei Wei A Instant Noodles Chicken Flavor</td>\n",
       "      <td>Bowl</td>\n",
       "      <td>Taiwan</td>\n",
       "      <td>0</td>\n",
       "      <td>NaN</td>\n",
       "    </tr>\n",
       "    <tr>\n",
       "      <th>717</th>\n",
       "      <td>1863</td>\n",
       "      <td>Baijia</td>\n",
       "      <td>Broad Noodle Pickled Vegetable Artificial Beef...</td>\n",
       "      <td>Pack</td>\n",
       "      <td>China</td>\n",
       "      <td>0</td>\n",
       "      <td>NaN</td>\n",
       "    </tr>\n",
       "    <tr>\n",
       "      <th>785</th>\n",
       "      <td>1795</td>\n",
       "      <td>Azami</td>\n",
       "      <td>Kimchee Flavour Noodle Soup</td>\n",
       "      <td>Pack</td>\n",
       "      <td>Canada</td>\n",
       "      <td>0</td>\n",
       "      <td>NaN</td>\n",
       "    </tr>\n",
       "    <tr>\n",
       "      <th>798</th>\n",
       "      <td>1782</td>\n",
       "      <td>Western Family</td>\n",
       "      <td>Beef Flavour Instant Noodles</td>\n",
       "      <td>Pack</td>\n",
       "      <td>Canada</td>\n",
       "      <td>0</td>\n",
       "      <td>NaN</td>\n",
       "    </tr>\n",
       "    <tr>\n",
       "      <th>939</th>\n",
       "      <td>1641</td>\n",
       "      <td>One Dish Asia</td>\n",
       "      <td>Japanese Ramen Noodle</td>\n",
       "      <td>Bowl</td>\n",
       "      <td>USA</td>\n",
       "      <td>0</td>\n",
       "      <td>NaN</td>\n",
       "    </tr>\n",
       "    <tr>\n",
       "      <th>952</th>\n",
       "      <td>1628</td>\n",
       "      <td>Azami</td>\n",
       "      <td>Kimchee Noodle Soup</td>\n",
       "      <td>Cup</td>\n",
       "      <td>Canada</td>\n",
       "      <td>0</td>\n",
       "      <td>NaN</td>\n",
       "    </tr>\n",
       "    <tr>\n",
       "      <th>1209</th>\n",
       "      <td>1371</td>\n",
       "      <td>Campbell's</td>\n",
       "      <td>Hearty Noodles Thai Flavour</td>\n",
       "      <td>Cup</td>\n",
       "      <td>Canada</td>\n",
       "      <td>0</td>\n",
       "      <td>NaN</td>\n",
       "    </tr>\n",
       "    <tr>\n",
       "      <th>1996</th>\n",
       "      <td>584</td>\n",
       "      <td>Baijia</td>\n",
       "      <td>Single Noble Black Bone Chicken Sweet Potato T...</td>\n",
       "      <td>Cup</td>\n",
       "      <td>China</td>\n",
       "      <td>0</td>\n",
       "      <td>NaN</td>\n",
       "    </tr>\n",
       "    <tr>\n",
       "      <th>2000</th>\n",
       "      <td>580</td>\n",
       "      <td>Baijia</td>\n",
       "      <td>Hot &amp; Sour Casserole Stewed Rice Noodle</td>\n",
       "      <td>Pack</td>\n",
       "      <td>China</td>\n",
       "      <td>0</td>\n",
       "      <td>NaN</td>\n",
       "    </tr>\n",
       "    <tr>\n",
       "      <th>2082</th>\n",
       "      <td>498</td>\n",
       "      <td>Hsin Tung Yang</td>\n",
       "      <td>Tiny Noodle With Oyster Flavor</td>\n",
       "      <td>Pack</td>\n",
       "      <td>Taiwan</td>\n",
       "      <td>0</td>\n",
       "      <td>NaN</td>\n",
       "    </tr>\n",
       "    <tr>\n",
       "      <th>2194</th>\n",
       "      <td>386</td>\n",
       "      <td>US Canning</td>\n",
       "      <td>Fu Chang Chinese Noodle Company Pork Seafood</td>\n",
       "      <td>Tray</td>\n",
       "      <td>USA</td>\n",
       "      <td>0</td>\n",
       "      <td>NaN</td>\n",
       "    </tr>\n",
       "    <tr>\n",
       "      <th>2287</th>\n",
       "      <td>293</td>\n",
       "      <td>Tiger</td>\n",
       "      <td>Onion Flaver Rice Noodle</td>\n",
       "      <td>Bowl</td>\n",
       "      <td>Taiwan</td>\n",
       "      <td>0</td>\n",
       "      <td>NaN</td>\n",
       "    </tr>\n",
       "    <tr>\n",
       "      <th>2419</th>\n",
       "      <td>161</td>\n",
       "      <td>Paldo</td>\n",
       "      <td>Green Tea Chlorella</td>\n",
       "      <td>Pack</td>\n",
       "      <td>South Korea</td>\n",
       "      <td>0</td>\n",
       "      <td>NaN</td>\n",
       "    </tr>\n",
       "    <tr>\n",
       "      <th>2447</th>\n",
       "      <td>133</td>\n",
       "      <td>Baijia</td>\n",
       "      <td>Hot &amp; Sour Rice Noodle</td>\n",
       "      <td>Pack</td>\n",
       "      <td>China</td>\n",
       "      <td>0</td>\n",
       "      <td>NaN</td>\n",
       "    </tr>\n",
       "    <tr>\n",
       "      <th>2537</th>\n",
       "      <td>43</td>\n",
       "      <td>Kim Ve Wong</td>\n",
       "      <td>Jaopai Series: Vegetarian Instant Noodles</td>\n",
       "      <td>Bowl</td>\n",
       "      <td>Taiwan</td>\n",
       "      <td>0</td>\n",
       "      <td>NaN</td>\n",
       "    </tr>\n",
       "  </tbody>\n",
       "</table>\n",
       "</div>"
      ],
      "text/plain": [
       "      review             brand  \\\n",
       "53      2527     Uni-President   \n",
       "77      2503  Sichuan Guangyou   \n",
       "154     2426   Dr. McDougall's   \n",
       "293     2287       Master Kong   \n",
       "372     2208            Roland   \n",
       "477     2103            Roland   \n",
       "524     2056              Koyo   \n",
       "557     2023      Urban Noodle   \n",
       "563     2017     Samyang Foods   \n",
       "624     1956          Maruchan   \n",
       "667     1913        Thai Smile   \n",
       "707     1873             Vedan   \n",
       "717     1863            Baijia   \n",
       "785     1795             Azami   \n",
       "798     1782    Western Family   \n",
       "939     1641     One Dish Asia   \n",
       "952     1628             Azami   \n",
       "1209    1371        Campbell's   \n",
       "1996     584            Baijia   \n",
       "2000     580            Baijia   \n",
       "2082     498    Hsin Tung Yang   \n",
       "2194     386        US Canning   \n",
       "2287     293             Tiger   \n",
       "2419     161             Paldo   \n",
       "2447     133            Baijia   \n",
       "2537      43       Kim Ve Wong   \n",
       "\n",
       "                                                variety style      country  \\\n",
       "53                                      Mushroom Flavor  Pack      Vietnam   \n",
       "77          Sweet Potato Instant Noodle Sout-Hot Flavor  Bowl        China   \n",
       "154                          Vegan Pad Thai Noodle Soup   Cup          USA   \n",
       "293       Artificial Abalone Crab Flavor Instant Noodle  Pack        China   \n",
       "372   Ramen Japanese Style Quick-Cooking Alimentary ...  Pack          USA   \n",
       "477   Ramen Japanese Style Quick-Cooking Alimentary ...  Pack          USA   \n",
       "524                  Garlic Pepper Reduced Sodium Ramen  Pack          USA   \n",
       "557                    Authentic Street Food Black Bean   Cup           UK   \n",
       "563                             Honey & Cheese Big Bowl  Bowl  South Korea   \n",
       "624                            Spicy Tomato Salsa Ramen   Cup        Japan   \n",
       "667                      Mushroom Rice Noodle Soup Bowl  Bowl          USA   \n",
       "707            Wei Wei A Instant Noodles Chicken Flavor  Bowl       Taiwan   \n",
       "717   Broad Noodle Pickled Vegetable Artificial Beef...  Pack        China   \n",
       "785                         Kimchee Flavour Noodle Soup  Pack       Canada   \n",
       "798                        Beef Flavour Instant Noodles  Pack       Canada   \n",
       "939                               Japanese Ramen Noodle  Bowl          USA   \n",
       "952                                 Kimchee Noodle Soup   Cup       Canada   \n",
       "1209                        Hearty Noodles Thai Flavour   Cup       Canada   \n",
       "1996  Single Noble Black Bone Chicken Sweet Potato T...   Cup        China   \n",
       "2000            Hot & Sour Casserole Stewed Rice Noodle  Pack        China   \n",
       "2082                     Tiny Noodle With Oyster Flavor  Pack       Taiwan   \n",
       "2194       Fu Chang Chinese Noodle Company Pork Seafood  Tray          USA   \n",
       "2287                           Onion Flaver Rice Noodle  Bowl       Taiwan   \n",
       "2419                                Green Tea Chlorella  Pack  South Korea   \n",
       "2447                             Hot & Sour Rice Noodle  Pack        China   \n",
       "2537          Jaopai Series: Vegetarian Instant Noodles  Bowl       Taiwan   \n",
       "\n",
       "     stars top_ten  \n",
       "53       0     NaN  \n",
       "77       0     NaN  \n",
       "154      0     NaN  \n",
       "293      0     NaN  \n",
       "372      0     NaN  \n",
       "477      0     NaN  \n",
       "524      0     NaN  \n",
       "557      0     NaN  \n",
       "563      0     NaN  \n",
       "624      0     NaN  \n",
       "667      0     NaN  \n",
       "707      0     NaN  \n",
       "717      0     NaN  \n",
       "785      0     NaN  \n",
       "798      0     NaN  \n",
       "939      0     NaN  \n",
       "952      0     NaN  \n",
       "1209     0     NaN  \n",
       "1996     0     NaN  \n",
       "2000     0     NaN  \n",
       "2082     0     NaN  \n",
       "2194     0     NaN  \n",
       "2287     0     NaN  \n",
       "2419     0     NaN  \n",
       "2447     0     NaN  \n",
       "2537     0     NaN  "
      ]
     },
     "execution_count": 23,
     "metadata": {},
     "output_type": "execute_result"
    }
   ],
   "source": [
    "df[df['stars'] == '0']"
   ]
  },
  {
   "cell_type": "code",
   "execution_count": 27,
   "metadata": {},
   "outputs": [],
   "source": [
    "df.drop(['review','top_ten'], axis=1, inplace=True)"
   ]
  },
  {
   "cell_type": "code",
   "execution_count": 28,
   "metadata": {},
   "outputs": [
    {
     "data": {
      "text/html": [
       "<div>\n",
       "<style scoped>\n",
       "    .dataframe tbody tr th:only-of-type {\n",
       "        vertical-align: middle;\n",
       "    }\n",
       "\n",
       "    .dataframe tbody tr th {\n",
       "        vertical-align: top;\n",
       "    }\n",
       "\n",
       "    .dataframe thead th {\n",
       "        text-align: right;\n",
       "    }\n",
       "</style>\n",
       "<table border=\"1\" class=\"dataframe\">\n",
       "  <thead>\n",
       "    <tr style=\"text-align: right;\">\n",
       "      <th></th>\n",
       "      <th>brand</th>\n",
       "      <th>variety</th>\n",
       "      <th>style</th>\n",
       "      <th>country</th>\n",
       "      <th>stars</th>\n",
       "    </tr>\n",
       "  </thead>\n",
       "  <tbody>\n",
       "    <tr>\n",
       "      <th>0</th>\n",
       "      <td>New Touch</td>\n",
       "      <td>T's Restaurant Tantanmen</td>\n",
       "      <td>Cup</td>\n",
       "      <td>Japan</td>\n",
       "      <td>3.75</td>\n",
       "    </tr>\n",
       "    <tr>\n",
       "      <th>1</th>\n",
       "      <td>Just Way</td>\n",
       "      <td>Noodles Spicy Hot Sesame Spicy Hot Sesame Guan...</td>\n",
       "      <td>Pack</td>\n",
       "      <td>Taiwan</td>\n",
       "      <td>1</td>\n",
       "    </tr>\n",
       "    <tr>\n",
       "      <th>2</th>\n",
       "      <td>Nissin</td>\n",
       "      <td>Cup Noodles Chicken Vegetable</td>\n",
       "      <td>Cup</td>\n",
       "      <td>USA</td>\n",
       "      <td>2.25</td>\n",
       "    </tr>\n",
       "    <tr>\n",
       "      <th>3</th>\n",
       "      <td>Wei Lih</td>\n",
       "      <td>GGE Ramen Snack Tomato Flavor</td>\n",
       "      <td>Pack</td>\n",
       "      <td>Taiwan</td>\n",
       "      <td>2.75</td>\n",
       "    </tr>\n",
       "    <tr>\n",
       "      <th>4</th>\n",
       "      <td>Ching's Secret</td>\n",
       "      <td>Singapore Curry</td>\n",
       "      <td>Pack</td>\n",
       "      <td>India</td>\n",
       "      <td>3.75</td>\n",
       "    </tr>\n",
       "  </tbody>\n",
       "</table>\n",
       "</div>"
      ],
      "text/plain": [
       "            brand                                            variety style  \\\n",
       "0       New Touch                          T's Restaurant Tantanmen    Cup   \n",
       "1        Just Way  Noodles Spicy Hot Sesame Spicy Hot Sesame Guan...  Pack   \n",
       "2          Nissin                      Cup Noodles Chicken Vegetable   Cup   \n",
       "3         Wei Lih                      GGE Ramen Snack Tomato Flavor  Pack   \n",
       "4  Ching's Secret                                    Singapore Curry  Pack   \n",
       "\n",
       "  country stars  \n",
       "0   Japan  3.75  \n",
       "1  Taiwan     1  \n",
       "2     USA  2.25  \n",
       "3  Taiwan  2.75  \n",
       "4   India  3.75  "
      ]
     },
     "execution_count": 28,
     "metadata": {},
     "output_type": "execute_result"
    }
   ],
   "source": [
    "df.head()"
   ]
  },
  {
   "cell_type": "markdown",
   "metadata": {},
   "source": [
    "I found 'stars' is not float. Let's convert it."
   ]
  },
  {
   "cell_type": "code",
   "execution_count": 29,
   "metadata": {},
   "outputs": [],
   "source": [
    "df['stars'] = df['stars'].astype(float)"
   ]
  },
  {
   "cell_type": "code",
   "execution_count": 31,
   "metadata": {},
   "outputs": [
    {
     "data": {
      "text/plain": [
       "0    3.75\n",
       "1    1.00\n",
       "2    2.25\n",
       "3    2.75\n",
       "4    3.75\n",
       "Name: stars, dtype: float64"
      ]
     },
     "execution_count": 31,
     "metadata": {},
     "output_type": "execute_result"
    }
   ],
   "source": [
    "df['stars'].head()"
   ]
  },
  {
   "cell_type": "code",
   "execution_count": 32,
   "metadata": {},
   "outputs": [
    {
     "data": {
      "text/plain": [
       "array(['Cup', 'Pack', 'Tray', 'Bowl', 'Box', 'Can', 'Bar', nan],\n",
       "      dtype=object)"
      ]
     },
     "execution_count": 32,
     "metadata": {},
     "output_type": "execute_result"
    }
   ],
   "source": [
    "df['style'].unique()"
   ]
  },
  {
   "cell_type": "code",
   "execution_count": 33,
   "metadata": {},
   "outputs": [
    {
     "data": {
      "text/plain": [
       "2"
      ]
     },
     "execution_count": 33,
     "metadata": {},
     "output_type": "execute_result"
    }
   ],
   "source": [
    "df['style'].isna().sum()"
   ]
  },
  {
   "cell_type": "code",
   "execution_count": 36,
   "metadata": {},
   "outputs": [],
   "source": [
    "df = df.dropna(subset =['style'])"
   ]
  },
  {
   "cell_type": "code",
   "execution_count": 37,
   "metadata": {},
   "outputs": [
    {
     "data": {
      "text/plain": [
       "0"
      ]
     },
     "execution_count": 37,
     "metadata": {},
     "output_type": "execute_result"
    }
   ],
   "source": [
    "df['style'].isna().sum()"
   ]
  },
  {
   "cell_type": "code",
   "execution_count": 39,
   "metadata": {},
   "outputs": [
    {
     "data": {
      "text/plain": [
       "0"
      ]
     },
     "execution_count": 39,
     "metadata": {},
     "output_type": "execute_result"
    }
   ],
   "source": [
    "df['country'].isna().sum()"
   ]
  },
  {
   "cell_type": "code",
   "execution_count": 40,
   "metadata": {},
   "outputs": [
    {
     "data": {
      "text/plain": [
       "0"
      ]
     },
     "execution_count": 40,
     "metadata": {},
     "output_type": "execute_result"
    }
   ],
   "source": [
    "df['brand'].isna().sum()"
   ]
  },
  {
   "cell_type": "code",
   "execution_count": 41,
   "metadata": {},
   "outputs": [
    {
     "data": {
      "text/plain": [
       "0"
      ]
     },
     "execution_count": 41,
     "metadata": {},
     "output_type": "execute_result"
    }
   ],
   "source": [
    "df['variety'].isna().sum()"
   ]
  },
  {
   "cell_type": "code",
   "execution_count": 42,
   "metadata": {},
   "outputs": [
    {
     "data": {
      "text/plain": [
       "2408"
      ]
     },
     "execution_count": 42,
     "metadata": {},
     "output_type": "execute_result"
    }
   ],
   "source": [
    "len(df['variety'].unique())"
   ]
  },
  {
   "cell_type": "code",
   "execution_count": 43,
   "metadata": {},
   "outputs": [
    {
     "data": {
      "text/plain": [
       "2575"
      ]
     },
     "execution_count": 43,
     "metadata": {},
     "output_type": "execute_result"
    }
   ],
   "source": [
    "len(df)"
   ]
  },
  {
   "cell_type": "markdown",
   "metadata": {},
   "source": [
    "There are multiple rating for certain varieties. It would be meaningful to get the row of average rating if variety and style are identical."
   ]
  },
  {
   "cell_type": "code",
   "execution_count": 48,
   "metadata": {},
   "outputs": [],
   "source": [
    "df2 = df.groupby(['variety','style','country','brand'], as_index=False)['stars'].mean()"
   ]
  },
  {
   "cell_type": "code",
   "execution_count": 46,
   "metadata": {},
   "outputs": [
    {
     "name": "stdout",
     "output_type": "stream",
     "text": [
      "<class 'pandas.core.frame.DataFrame'>\n",
      "Int64Index: 2575 entries, 0 to 2579\n",
      "Data columns (total 5 columns):\n",
      "brand      2575 non-null object\n",
      "variety    2575 non-null object\n",
      "style      2575 non-null object\n",
      "country    2575 non-null object\n",
      "stars      2575 non-null float64\n",
      "dtypes: float64(1), object(4)\n",
      "memory usage: 120.7+ KB\n"
     ]
    }
   ],
   "source": [
    "df.info()"
   ]
  },
  {
   "cell_type": "code",
   "execution_count": 52,
   "metadata": {},
   "outputs": [
    {
     "data": {
      "text/plain": [
       "2408"
      ]
     },
     "execution_count": 52,
     "metadata": {},
     "output_type": "execute_result"
    }
   ],
   "source": [
    "len(df2['variety'].unique())"
   ]
  },
  {
   "cell_type": "code",
   "execution_count": 53,
   "metadata": {},
   "outputs": [
    {
     "data": {
      "text/plain": [
       "2561"
      ]
     },
     "execution_count": 53,
     "metadata": {},
     "output_type": "execute_result"
    }
   ],
   "source": [
    "len(df2)"
   ]
  },
  {
   "cell_type": "markdown",
   "metadata": {},
   "source": [
    "Alright! everything is cleaned. I can jump to the featurization."
   ]
  },
  {
   "cell_type": "code",
   "execution_count": 55,
   "metadata": {},
   "outputs": [],
   "source": [
    "from nltk.corpus import stopwords\n",
    "import string\n",
    "import re\n",
    "from sklearn.feature_extraction.text import TfidfVectorizer\n",
    "\n",
    "regex = re.compile('[%s]' % re.escape(string.punctuation))\n",
    "stopwords_ = stopwords.words('english')\n",
    "punctuation_ = set(string.punctuation)\n",
    "\n",
    "def filter_stopwords_punct(sentence):\n",
    "    \"\"\"remove stop words and punctuation\"\"\"\n",
    "    sentence = regex.sub('', sentence)\n",
    "    text = [word for word in sentence.split() if word not in stopwords_]\n",
    "    return ' '.join(text)\n",
    "\n",
    "\n",
    "from nltk.tokenize import word_tokenize\n",
    "\n",
    "def sentence_to_words_clean(txt):\n",
    "    \"\"\"function to tokenzine sentence\"\"\"\n",
    "    for sentence in txt:\n",
    "        yield(word_tokenize(sentence))\n",
    "\n",
    "\n",
    "from nltk.stem import WordNetLemmatizer\n",
    "\n",
    "def lemming(text):\n",
    "    \"\"\"a function which stems each word in the given text\"\"\"\n",
    "    lemmer = WordNetLemmatizer()\n",
    "    text = [lemmer.lemmatize(word) for word in text]\n",
    "    return text\n",
    "\n",
    "# removing stopwords/punctuation --> tokenize --> lemmatize\n",
    "\n",
    "def processing_text(target_df,column):\n",
    "    regex = re.compile('[%s]' % re.escape(string.punctuation))\n",
    "    stopwords_ = stopwords.words('english')\n",
    "    punctuation_ = set(string.punctuation)\n",
    "    target_df[column] = target_df[column].astype(str)\n",
    "    data = target_df[column].values.tolist()\n",
    "    data1 = list(filter_stopwords_punct(sentence) for sentence in data)\n",
    "    data_words = list(sentence_to_words_clean(data1))\n",
    "    data_lem = [lemming(sentence) for sentence in data_words]\n",
    "    target_df['lemmed'] = data_lem\n",
    "    target_df['lemmed'] = target_df['lemmed'].apply(lambda x: ', '.join(x))\n",
    "    return target_df"
   ]
  },
  {
   "cell_type": "code",
   "execution_count": 56,
   "metadata": {},
   "outputs": [],
   "source": [
    "df3 = processing_text(df2, 'variety')"
   ]
  },
  {
   "cell_type": "code",
   "execution_count": 58,
   "metadata": {},
   "outputs": [
    {
     "data": {
      "text/html": [
       "<div>\n",
       "<style scoped>\n",
       "    .dataframe tbody tr th:only-of-type {\n",
       "        vertical-align: middle;\n",
       "    }\n",
       "\n",
       "    .dataframe tbody tr th {\n",
       "        vertical-align: top;\n",
       "    }\n",
       "\n",
       "    .dataframe thead th {\n",
       "        text-align: right;\n",
       "    }\n",
       "</style>\n",
       "<table border=\"1\" class=\"dataframe\">\n",
       "  <thead>\n",
       "    <tr style=\"text-align: right;\">\n",
       "      <th></th>\n",
       "      <th>variety</th>\n",
       "      <th>style</th>\n",
       "      <th>country</th>\n",
       "      <th>brand</th>\n",
       "      <th>stars</th>\n",
       "      <th>lemmed</th>\n",
       "    </tr>\n",
       "  </thead>\n",
       "  <tbody>\n",
       "    <tr>\n",
       "      <th>2556</th>\n",
       "      <td>chicken</td>\n",
       "      <td>Pack</td>\n",
       "      <td>Dubai</td>\n",
       "      <td>Golden Mie</td>\n",
       "      <td>3.25</td>\n",
       "      <td>chicken</td>\n",
       "    </tr>\n",
       "    <tr>\n",
       "      <th>2557</th>\n",
       "      <td>dried Mix Noodles Soya Bean Paste</td>\n",
       "      <td>Tray</td>\n",
       "      <td>China</td>\n",
       "      <td>Kamfen</td>\n",
       "      <td>3.75</td>\n",
       "      <td>dried, Mix, Noodles, Soya, Bean, Paste</td>\n",
       "    </tr>\n",
       "    <tr>\n",
       "      <th>2558</th>\n",
       "      <td>spicy Pad Thai Instant Noodles &amp; Sauce</td>\n",
       "      <td>Tray</td>\n",
       "      <td>USA</td>\n",
       "      <td>Thai Pavilion</td>\n",
       "      <td>4.25</td>\n",
       "      <td>spicy, Pad, Thai, Instant, Noodles, Sauce</td>\n",
       "    </tr>\n",
       "    <tr>\n",
       "      <th>2559</th>\n",
       "      <td>ДОШИРАК (Dosirac) Beef Flavor</td>\n",
       "      <td>Pack</td>\n",
       "      <td>South Korea</td>\n",
       "      <td>Paldo</td>\n",
       "      <td>3.50</td>\n",
       "      <td>ДОШИРАК, Dosirac, Beef, Flavor</td>\n",
       "    </tr>\n",
       "    <tr>\n",
       "      <th>2560</th>\n",
       "      <td>三養라면 (Samyang Ramyun) (South Korean Version)</td>\n",
       "      <td>Bowl</td>\n",
       "      <td>South Korea</td>\n",
       "      <td>Samyang Foods</td>\n",
       "      <td>3.75</td>\n",
       "      <td>三養라면, Samyang, Ramyun, South, Korean, Version</td>\n",
       "    </tr>\n",
       "  </tbody>\n",
       "</table>\n",
       "</div>"
      ],
      "text/plain": [
       "                                           variety style      country  \\\n",
       "2556                                       chicken  Pack        Dubai   \n",
       "2557             dried Mix Noodles Soya Bean Paste  Tray        China   \n",
       "2558        spicy Pad Thai Instant Noodles & Sauce  Tray          USA   \n",
       "2559                 ДОШИРАК (Dosirac) Beef Flavor  Pack  South Korea   \n",
       "2560  三養라면 (Samyang Ramyun) (South Korean Version)  Bowl  South Korea   \n",
       "\n",
       "              brand  stars                                         lemmed  \n",
       "2556     Golden Mie   3.25                                        chicken  \n",
       "2557         Kamfen   3.75         dried, Mix, Noodles, Soya, Bean, Paste  \n",
       "2558  Thai Pavilion   4.25      spicy, Pad, Thai, Instant, Noodles, Sauce  \n",
       "2559          Paldo   3.50                 ДОШИРАК, Dosirac, Beef, Flavor  \n",
       "2560  Samyang Foods   3.75  三養라면, Samyang, Ramyun, South, Korean, Version  "
      ]
     },
     "execution_count": 58,
     "metadata": {},
     "output_type": "execute_result"
    }
   ],
   "source": [
    "df3.tail()"
   ]
  },
  {
   "cell_type": "code",
   "execution_count": null,
   "metadata": {},
   "outputs": [],
   "source": []
  }
 ],
 "metadata": {
  "kernelspec": {
   "display_name": "Python 3",
   "language": "python",
   "name": "python3"
  },
  "language_info": {
   "codemirror_mode": {
    "name": "ipython",
    "version": 3
   },
   "file_extension": ".py",
   "mimetype": "text/x-python",
   "name": "python",
   "nbconvert_exporter": "python",
   "pygments_lexer": "ipython3",
   "version": "3.6.8"
  }
 },
 "nbformat": 4,
 "nbformat_minor": 2
}
